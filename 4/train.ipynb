{
 "cells": [
  {
   "cell_type": "markdown",
   "metadata": {
    "papermill": {
     "duration": 0.038367,
     "end_time": "2024-07-03T06:05:38.329719",
     "exception": false,
     "start_time": "2024-07-03T06:05:38.291352",
     "status": "completed"
    },
    "tags": []
   },
   "source": [
    "# **Kelompok 3**\n",
    "- **Nur Hikmah**\n",
    "- **Nirwana**"
   ]
  },
  {
   "cell_type": "markdown",
   "metadata": {
    "papermill": {
     "duration": 0.035214,
     "end_time": "2024-07-03T06:05:38.400147",
     "exception": false,
     "start_time": "2024-07-03T06:05:38.364933",
     "status": "completed"
    },
    "tags": []
   },
   "source": [
    "# imports"
   ]
  },
  {
   "cell_type": "code",
   "execution_count": 1,
   "metadata": {
    "_cell_guid": "79c7e3d0-c299-4dcb-8224-4455121ee9b0",
    "_uuid": "d629ff2d2480ee46fbb7e2d37f6b5fab8052498a",
    "execution": {
     "iopub.execute_input": "2024-07-03T06:05:38.477399Z",
     "iopub.status.busy": "2024-07-03T06:05:38.476725Z",
     "iopub.status.idle": "2024-07-03T06:05:43.789108Z",
     "shell.execute_reply": "2024-07-03T06:05:43.788351Z",
     "shell.execute_reply.started": "2024-07-03T05:09:51.809786Z"
    },
    "papermill": {
     "duration": 5.353633,
     "end_time": "2024-07-03T06:05:43.789232",
     "exception": false,
     "start_time": "2024-07-03T06:05:38.435599",
     "status": "completed"
    },
    "tags": []
   },
   "outputs": [],
   "source": [
    "import os\n",
    "import cv2\n",
    "import random\n",
    "import numpy as np\n",
    "import pandas as pd\n",
    "import matplotlib.pyplot as plt\n",
    "\n",
    "import tensorflow as tf\n",
    "from keras import backend as K\n",
    "from keras.models import Model\n",
    "from keras.layers import Input, Conv2D, MaxPooling2D, Reshape, Bidirectional, LSTM, Dense, Lambda, Activation, BatchNormalization, Dropout\n",
    "from keras.optimizers import Adam"
   ]
  },
  {
   "cell_type": "markdown",
   "metadata": {
    "papermill": {
     "duration": 0.035236,
     "end_time": "2024-07-03T06:05:43.861251",
     "exception": false,
     "start_time": "2024-07-03T06:05:43.826015",
     "status": "completed"
    },
    "tags": []
   },
   "source": [
    "## import data"
   ]
  },
  {
   "cell_type": "code",
   "execution_count": 2,
   "metadata": {
    "execution": {
     "iopub.execute_input": "2024-07-03T06:05:43.939790Z",
     "iopub.status.busy": "2024-07-03T06:05:43.939205Z",
     "iopub.status.idle": "2024-07-03T06:05:44.357193Z",
     "shell.execute_reply": "2024-07-03T06:05:44.356610Z",
     "shell.execute_reply.started": "2024-07-03T05:09:57.147202Z"
    },
    "papermill": {
     "duration": 0.460878,
     "end_time": "2024-07-03T06:05:44.357320",
     "exception": false,
     "start_time": "2024-07-03T06:05:43.896442",
     "status": "completed"
    },
    "tags": []
   },
   "outputs": [],
   "source": [
    "train = pd.read_csv('/kaggle/input/handwriting-recognition/written_name_train_v2.csv')\n",
    "valid = pd.read_csv('/kaggle/input/handwriting-recognition/written_name_validation_v2.csv')"
   ]
  },
  {
   "cell_type": "code",
   "execution_count": 3,
   "metadata": {
    "execution": {
     "iopub.execute_input": "2024-07-03T06:05:44.445118Z",
     "iopub.status.busy": "2024-07-03T06:05:44.444513Z",
     "iopub.status.idle": "2024-07-03T06:05:44.452871Z",
     "shell.execute_reply": "2024-07-03T06:05:44.452352Z",
     "shell.execute_reply.started": "2024-07-03T05:09:57.621156Z"
    },
    "papermill": {
     "duration": 0.05948,
     "end_time": "2024-07-03T06:05:44.453001",
     "exception": false,
     "start_time": "2024-07-03T06:05:44.393521",
     "status": "completed"
    },
    "tags": []
   },
   "outputs": [
    {
     "data": {
      "text/html": [
       "<div>\n",
       "<style scoped>\n",
       "    .dataframe tbody tr th:only-of-type {\n",
       "        vertical-align: middle;\n",
       "    }\n",
       "\n",
       "    .dataframe tbody tr th {\n",
       "        vertical-align: top;\n",
       "    }\n",
       "\n",
       "    .dataframe thead th {\n",
       "        text-align: right;\n",
       "    }\n",
       "</style>\n",
       "<table border=\"1\" class=\"dataframe\">\n",
       "  <thead>\n",
       "    <tr style=\"text-align: right;\">\n",
       "      <th></th>\n",
       "      <th>FILENAME</th>\n",
       "      <th>IDENTITY</th>\n",
       "    </tr>\n",
       "  </thead>\n",
       "  <tbody>\n",
       "    <tr>\n",
       "      <th>0</th>\n",
       "      <td>TRAIN_00001.jpg</td>\n",
       "      <td>BALTHAZAR</td>\n",
       "    </tr>\n",
       "    <tr>\n",
       "      <th>1</th>\n",
       "      <td>TRAIN_00002.jpg</td>\n",
       "      <td>SIMON</td>\n",
       "    </tr>\n",
       "    <tr>\n",
       "      <th>2</th>\n",
       "      <td>TRAIN_00003.jpg</td>\n",
       "      <td>BENES</td>\n",
       "    </tr>\n",
       "    <tr>\n",
       "      <th>3</th>\n",
       "      <td>TRAIN_00004.jpg</td>\n",
       "      <td>LA LOVE</td>\n",
       "    </tr>\n",
       "    <tr>\n",
       "      <th>4</th>\n",
       "      <td>TRAIN_00005.jpg</td>\n",
       "      <td>DAPHNE</td>\n",
       "    </tr>\n",
       "    <tr>\n",
       "      <th>...</th>\n",
       "      <td>...</td>\n",
       "      <td>...</td>\n",
       "    </tr>\n",
       "    <tr>\n",
       "      <th>330956</th>\n",
       "      <td>TRAIN_330957.jpg</td>\n",
       "      <td>LENNY</td>\n",
       "    </tr>\n",
       "    <tr>\n",
       "      <th>330957</th>\n",
       "      <td>TRAIN_330958.jpg</td>\n",
       "      <td>TIFFANY</td>\n",
       "    </tr>\n",
       "    <tr>\n",
       "      <th>330958</th>\n",
       "      <td>TRAIN_330959.jpg</td>\n",
       "      <td>COUTINHO DESA</td>\n",
       "    </tr>\n",
       "    <tr>\n",
       "      <th>330959</th>\n",
       "      <td>TRAIN_330960.jpg</td>\n",
       "      <td>MOURAD</td>\n",
       "    </tr>\n",
       "    <tr>\n",
       "      <th>330960</th>\n",
       "      <td>TRAIN_330961.jpg</td>\n",
       "      <td>HELOISE</td>\n",
       "    </tr>\n",
       "  </tbody>\n",
       "</table>\n",
       "<p>330961 rows × 2 columns</p>\n",
       "</div>"
      ],
      "text/plain": [
       "                FILENAME       IDENTITY\n",
       "0        TRAIN_00001.jpg      BALTHAZAR\n",
       "1        TRAIN_00002.jpg          SIMON\n",
       "2        TRAIN_00003.jpg          BENES\n",
       "3        TRAIN_00004.jpg        LA LOVE\n",
       "4        TRAIN_00005.jpg         DAPHNE\n",
       "...                  ...            ...\n",
       "330956  TRAIN_330957.jpg          LENNY\n",
       "330957  TRAIN_330958.jpg        TIFFANY\n",
       "330958  TRAIN_330959.jpg  COUTINHO DESA\n",
       "330959  TRAIN_330960.jpg         MOURAD\n",
       "330960  TRAIN_330961.jpg        HELOISE\n",
       "\n",
       "[330961 rows x 2 columns]"
      ]
     },
     "execution_count": 3,
     "metadata": {},
     "output_type": "execute_result"
    }
   ],
   "source": [
    "train"
   ]
  },
  {
   "cell_type": "code",
   "execution_count": 4,
   "metadata": {
    "execution": {
     "iopub.execute_input": "2024-07-03T06:05:44.535217Z",
     "iopub.status.busy": "2024-07-03T06:05:44.534563Z",
     "iopub.status.idle": "2024-07-03T06:05:44.538718Z",
     "shell.execute_reply": "2024-07-03T06:05:44.538126Z",
     "shell.execute_reply.started": "2024-07-03T05:09:57.643332Z"
    },
    "papermill": {
     "duration": 0.049558,
     "end_time": "2024-07-03T06:05:44.538815",
     "exception": false,
     "start_time": "2024-07-03T06:05:44.489257",
     "status": "completed"
    },
    "tags": []
   },
   "outputs": [
    {
     "data": {
      "text/html": [
       "<div>\n",
       "<style scoped>\n",
       "    .dataframe tbody tr th:only-of-type {\n",
       "        vertical-align: middle;\n",
       "    }\n",
       "\n",
       "    .dataframe tbody tr th {\n",
       "        vertical-align: top;\n",
       "    }\n",
       "\n",
       "    .dataframe thead th {\n",
       "        text-align: right;\n",
       "    }\n",
       "</style>\n",
       "<table border=\"1\" class=\"dataframe\">\n",
       "  <thead>\n",
       "    <tr style=\"text-align: right;\">\n",
       "      <th></th>\n",
       "      <th>FILENAME</th>\n",
       "      <th>IDENTITY</th>\n",
       "    </tr>\n",
       "  </thead>\n",
       "  <tbody>\n",
       "    <tr>\n",
       "      <th>0</th>\n",
       "      <td>VALIDATION_0001.jpg</td>\n",
       "      <td>BILEL</td>\n",
       "    </tr>\n",
       "    <tr>\n",
       "      <th>1</th>\n",
       "      <td>VALIDATION_0002.jpg</td>\n",
       "      <td>LAUMIONIER</td>\n",
       "    </tr>\n",
       "    <tr>\n",
       "      <th>2</th>\n",
       "      <td>VALIDATION_0003.jpg</td>\n",
       "      <td>LEA</td>\n",
       "    </tr>\n",
       "    <tr>\n",
       "      <th>3</th>\n",
       "      <td>VALIDATION_0004.jpg</td>\n",
       "      <td>JEAN-ROCH</td>\n",
       "    </tr>\n",
       "    <tr>\n",
       "      <th>4</th>\n",
       "      <td>VALIDATION_0005.jpg</td>\n",
       "      <td>RUPP</td>\n",
       "    </tr>\n",
       "    <tr>\n",
       "      <th>...</th>\n",
       "      <td>...</td>\n",
       "      <td>...</td>\n",
       "    </tr>\n",
       "    <tr>\n",
       "      <th>41365</th>\n",
       "      <td>VALIDATION_41366.jpg</td>\n",
       "      <td>CHAILLAN</td>\n",
       "    </tr>\n",
       "    <tr>\n",
       "      <th>41366</th>\n",
       "      <td>VALIDATION_41367.jpg</td>\n",
       "      <td>BAROUH</td>\n",
       "    </tr>\n",
       "    <tr>\n",
       "      <th>41367</th>\n",
       "      <td>VALIDATION_41368.jpg</td>\n",
       "      <td>MAXENCE</td>\n",
       "    </tr>\n",
       "    <tr>\n",
       "      <th>41368</th>\n",
       "      <td>VALIDATION_41369.jpg</td>\n",
       "      <td>HAMELIN</td>\n",
       "    </tr>\n",
       "    <tr>\n",
       "      <th>41369</th>\n",
       "      <td>VALIDATION_41370.jpg</td>\n",
       "      <td>LOLA</td>\n",
       "    </tr>\n",
       "  </tbody>\n",
       "</table>\n",
       "<p>41370 rows × 2 columns</p>\n",
       "</div>"
      ],
      "text/plain": [
       "                   FILENAME    IDENTITY\n",
       "0       VALIDATION_0001.jpg       BILEL\n",
       "1       VALIDATION_0002.jpg  LAUMIONIER\n",
       "2       VALIDATION_0003.jpg         LEA\n",
       "3       VALIDATION_0004.jpg   JEAN-ROCH\n",
       "4       VALIDATION_0005.jpg        RUPP\n",
       "...                     ...         ...\n",
       "41365  VALIDATION_41366.jpg    CHAILLAN\n",
       "41366  VALIDATION_41367.jpg      BAROUH\n",
       "41367  VALIDATION_41368.jpg     MAXENCE\n",
       "41368  VALIDATION_41369.jpg     HAMELIN\n",
       "41369  VALIDATION_41370.jpg        LOLA\n",
       "\n",
       "[41370 rows x 2 columns]"
      ]
     },
     "execution_count": 4,
     "metadata": {},
     "output_type": "execute_result"
    }
   ],
   "source": [
    "valid"
   ]
  },
  {
   "cell_type": "code",
   "execution_count": 5,
   "metadata": {
    "execution": {
     "iopub.execute_input": "2024-07-03T06:05:44.619203Z",
     "iopub.status.busy": "2024-07-03T06:05:44.618501Z",
     "iopub.status.idle": "2024-07-03T06:05:44.981551Z",
     "shell.execute_reply": "2024-07-03T06:05:44.982155Z",
     "shell.execute_reply.started": "2024-07-03T05:09:57.660764Z"
    },
    "papermill": {
     "duration": 0.407134,
     "end_time": "2024-07-03T06:05:44.982304",
     "exception": false,
     "start_time": "2024-07-03T06:05:44.575170",
     "status": "completed"
    },
    "tags": []
   },
   "outputs": [
    {
     "data": {
      "image/png": "[encoded data removed]",
      "text/plain": [
       "<Figure size 1080x720 with 6 Axes>"
      ]
     },
     "metadata": {
      "needs_background": "light"
     },
     "output_type": "display_data"
    }
   ],
   "source": [
    "plt.figure(figsize=(15, 10))\n",
    "\n",
    "for i in range(6):\n",
    "    ax = plt.subplot(2, 3, i+1)\n",
    "    img_dir = '/kaggle/input/handwriting-recognition/train_v2/train/'+train.loc[i, 'FILENAME']\n",
    "    image = cv2.imread(img_dir, cv2.IMREAD_GRAYSCALE)\n",
    "    plt.imshow(image, cmap = 'gray')\n",
    "    plt.title(train.loc[i, 'IDENTITY'], fontsize=12)\n",
    "    plt.axis('off')\n",
    "\n",
    "plt.subplots_adjust(wspace=0.2, hspace=-0.8)"
   ]
  },
  {
   "cell_type": "markdown",
   "metadata": {
    "papermill": {
     "duration": 0.038161,
     "end_time": "2024-07-03T06:05:45.061431",
     "exception": false,
     "start_time": "2024-07-03T06:05:45.023270",
     "status": "completed"
    },
    "tags": []
   },
   "source": [
    "# cleaning data"
   ]
  },
  {
   "cell_type": "code",
   "execution_count": 6,
   "metadata": {
    "execution": {
     "iopub.execute_input": "2024-07-03T06:05:45.207117Z",
     "iopub.status.busy": "2024-07-03T06:05:45.206490Z",
     "iopub.status.idle": "2024-07-03T06:05:45.218528Z",
     "shell.execute_reply": "2024-07-03T06:05:45.217983Z",
     "shell.execute_reply.started": "2024-07-03T05:09:58.049015Z"
    },
    "papermill": {
     "duration": 0.1187,
     "end_time": "2024-07-03T06:05:45.218634",
     "exception": false,
     "start_time": "2024-07-03T06:05:45.099934",
     "status": "completed"
    },
    "tags": []
   },
   "outputs": [
    {
     "name": "stdout",
     "output_type": "stream",
     "text": [
      "<class 'pandas.core.frame.DataFrame'>\n",
      "RangeIndex: 330961 entries, 0 to 330960\n",
      "Data columns (total 2 columns):\n",
      " #   Column    Non-Null Count   Dtype \n",
      "---  ------    --------------   ----- \n",
      " 0   FILENAME  330961 non-null  object\n",
      " 1   IDENTITY  330396 non-null  object\n",
      "dtypes: object(2)\n",
      "memory usage: 5.1+ MB\n"
     ]
    }
   ],
   "source": [
    "train.info()"
   ]
  },
  {
   "cell_type": "code",
   "execution_count": 7,
   "metadata": {
    "execution": {
     "iopub.execute_input": "2024-07-03T06:05:45.312252Z",
     "iopub.status.busy": "2024-07-03T06:05:45.307982Z",
     "iopub.status.idle": "2024-07-03T06:05:45.315715Z",
     "shell.execute_reply": "2024-07-03T06:05:45.315204Z",
     "shell.execute_reply.started": "2024-07-03T05:09:58.137649Z"
    },
    "papermill": {
     "duration": 0.058574,
     "end_time": "2024-07-03T06:05:45.315814",
     "exception": false,
     "start_time": "2024-07-03T06:05:45.257240",
     "status": "completed"
    },
    "tags": []
   },
   "outputs": [
    {
     "name": "stdout",
     "output_type": "stream",
     "text": [
      "<class 'pandas.core.frame.DataFrame'>\n",
      "RangeIndex: 41370 entries, 0 to 41369\n",
      "Data columns (total 2 columns):\n",
      " #   Column    Non-Null Count  Dtype \n",
      "---  ------    --------------  ----- \n",
      " 0   FILENAME  41370 non-null  object\n",
      " 1   IDENTITY  41292 non-null  object\n",
      "dtypes: object(2)\n",
      "memory usage: 646.5+ KB\n"
     ]
    }
   ],
   "source": [
    "valid.info()"
   ]
  },
  {
   "cell_type": "code",
   "execution_count": 8,
   "metadata": {
    "execution": {
     "iopub.execute_input": "2024-07-03T06:05:45.430099Z",
     "iopub.status.busy": "2024-07-03T06:05:45.429261Z",
     "iopub.status.idle": "2024-07-03T06:05:45.438311Z",
     "shell.execute_reply": "2024-07-03T06:05:45.437708Z",
     "shell.execute_reply.started": "2024-07-03T05:09:58.156370Z"
    },
    "papermill": {
     "duration": 0.083833,
     "end_time": "2024-07-03T06:05:45.438410",
     "exception": false,
     "start_time": "2024-07-03T06:05:45.354577",
     "status": "completed"
    },
    "tags": []
   },
   "outputs": [
    {
     "name": "stdout",
     "output_type": "stream",
     "text": [
      "Number of NaNs in train set      :  565\n",
      "Number of NaNs in validation set :  78\n"
     ]
    }
   ],
   "source": [
    "print(\"Number of NaNs in train set      : \", train['IDENTITY'].isnull().sum())\n",
    "print(\"Number of NaNs in validation set : \", valid['IDENTITY'].isnull().sum())"
   ]
  },
  {
   "cell_type": "code",
   "execution_count": 9,
   "metadata": {
    "execution": {
     "iopub.execute_input": "2024-07-03T06:05:45.582554Z",
     "iopub.status.busy": "2024-07-03T06:05:45.581893Z",
     "iopub.status.idle": "2024-07-03T06:05:45.745557Z",
     "shell.execute_reply": "2024-07-03T06:05:45.744987Z",
     "shell.execute_reply.started": "2024-07-03T05:09:58.318581Z"
    },
    "papermill": {
     "duration": 0.268608,
     "end_time": "2024-07-03T06:05:45.745688",
     "exception": false,
     "start_time": "2024-07-03T06:05:45.477080",
     "status": "completed"
    },
    "tags": []
   },
   "outputs": [],
   "source": [
    "train.dropna(axis=0, inplace=True)\n",
    "valid.dropna(axis=0, inplace=True)"
   ]
  },
  {
   "cell_type": "code",
   "execution_count": 10,
   "metadata": {
    "execution": {
     "iopub.execute_input": "2024-07-03T06:05:45.879080Z",
     "iopub.status.busy": "2024-07-03T06:05:45.878439Z",
     "iopub.status.idle": "2024-07-03T06:05:46.193318Z",
     "shell.execute_reply": "2024-07-03T06:05:46.193814Z",
     "shell.execute_reply.started": "2024-07-03T05:09:58.439964Z"
    },
    "papermill": {
     "duration": 0.409312,
     "end_time": "2024-07-03T06:05:46.193979",
     "exception": false,
     "start_time": "2024-07-03T06:05:45.784667",
     "status": "completed"
    },
    "tags": []
   },
   "outputs": [
    {
     "data": {
      "image/png": "[encoded data removed]",
      "text/plain": [
       "<Figure size 1080x720 with 6 Axes>"
      ]
     },
     "metadata": {
      "needs_background": "light"
     },
     "output_type": "display_data"
    }
   ],
   "source": [
    "unreadable = train[train['IDENTITY'] == 'UNREADABLE']\n",
    "unreadable.reset_index(inplace = True, drop=True)\n",
    "\n",
    "plt.figure(figsize=(15, 10))\n",
    "\n",
    "for i in range(6):\n",
    "    ax = plt.subplot(2, 3, i+1)\n",
    "    img_dir = '/kaggle/input/handwriting-recognition/train_v2/train/'+unreadable.loc[i, 'FILENAME']\n",
    "    image = cv2.imread(img_dir, cv2.IMREAD_GRAYSCALE)\n",
    "    plt.imshow(image, cmap = 'gray')\n",
    "    plt.title(unreadable.loc[i, 'IDENTITY'], fontsize=12)\n",
    "    plt.axis('off')\n",
    "\n",
    "plt.subplots_adjust(wspace=0.2, hspace=-0.8)"
   ]
  },
  {
   "cell_type": "code",
   "execution_count": 11,
   "metadata": {
    "execution": {
     "iopub.execute_input": "2024-07-03T06:05:46.327457Z",
     "iopub.status.busy": "2024-07-03T06:05:46.326779Z",
     "iopub.status.idle": "2024-07-03T06:05:46.348008Z",
     "shell.execute_reply": "2024-07-03T06:05:46.347453Z",
     "shell.execute_reply.started": "2024-07-03T05:09:58.828874Z"
    },
    "papermill": {
     "duration": 0.113014,
     "end_time": "2024-07-03T06:05:46.348118",
     "exception": false,
     "start_time": "2024-07-03T06:05:46.235104",
     "status": "completed"
    },
    "tags": []
   },
   "outputs": [],
   "source": [
    "train = train[train['IDENTITY'] != 'UNREADABLE']\n",
    "valid = valid[valid['IDENTITY'] != 'UNREADABLE']"
   ]
  },
  {
   "cell_type": "code",
   "execution_count": 12,
   "metadata": {
    "execution": {
     "iopub.execute_input": "2024-07-03T06:05:46.468130Z",
     "iopub.status.busy": "2024-07-03T06:05:46.467507Z",
     "iopub.status.idle": "2024-07-03T06:05:46.658090Z",
     "shell.execute_reply": "2024-07-03T06:05:46.657426Z",
     "shell.execute_reply.started": "2024-07-03T05:09:58.910883Z"
    },
    "papermill": {
     "duration": 0.268818,
     "end_time": "2024-07-03T06:05:46.658205",
     "exception": false,
     "start_time": "2024-07-03T06:05:46.389387",
     "status": "completed"
    },
    "tags": []
   },
   "outputs": [
    {
     "name": "stderr",
     "output_type": "stream",
     "text": [
      "/opt/conda/lib/python3.7/site-packages/ipykernel_launcher.py:1: SettingWithCopyWarning: \n",
      "A value is trying to be set on a copy of a slice from a DataFrame.\n",
      "Try using .loc[row_indexer,col_indexer] = value instead\n",
      "\n",
      "See the caveats in the documentation: https://pandas.pydata.org/pandas-docs/stable/user_guide/indexing.html#returning-a-view-versus-a-copy\n",
      "  \"\"\"Entry point for launching an IPython kernel.\n",
      "/opt/conda/lib/python3.7/site-packages/ipykernel_launcher.py:2: SettingWithCopyWarning: \n",
      "A value is trying to be set on a copy of a slice from a DataFrame.\n",
      "Try using .loc[row_indexer,col_indexer] = value instead\n",
      "\n",
      "See the caveats in the documentation: https://pandas.pydata.org/pandas-docs/stable/user_guide/indexing.html#returning-a-view-versus-a-copy\n",
      "  \n"
     ]
    }
   ],
   "source": [
    "train['IDENTITY'] = train['IDENTITY'].str.upper()\n",
    "valid['IDENTITY'] = valid['IDENTITY'].str.upper()"
   ]
  },
  {
   "cell_type": "code",
   "execution_count": 13,
   "metadata": {
    "execution": {
     "iopub.execute_input": "2024-07-03T06:05:46.748520Z",
     "iopub.status.busy": "2024-07-03T06:05:46.747863Z",
     "iopub.status.idle": "2024-07-03T06:05:46.750607Z",
     "shell.execute_reply": "2024-07-03T06:05:46.750023Z",
     "shell.execute_reply.started": "2024-07-03T05:09:59.160629Z"
    },
    "papermill": {
     "duration": 0.048859,
     "end_time": "2024-07-03T06:05:46.750713",
     "exception": false,
     "start_time": "2024-07-03T06:05:46.701854",
     "status": "completed"
    },
    "tags": []
   },
   "outputs": [],
   "source": [
    "train.reset_index(inplace = True, drop=True) \n",
    "valid.reset_index(inplace = True, drop=True)"
   ]
  },
  {
   "cell_type": "markdown",
   "metadata": {
    "papermill": {
     "duration": 0.04063,
     "end_time": "2024-07-03T06:05:46.832520",
     "exception": false,
     "start_time": "2024-07-03T06:05:46.791890",
     "status": "completed"
    },
    "tags": []
   },
   "source": [
    "# pre-processing data"
   ]
  },
  {
   "cell_type": "code",
   "execution_count": 14,
   "metadata": {
    "execution": {
     "iopub.execute_input": "2024-07-03T06:05:46.919488Z",
     "iopub.status.busy": "2024-07-03T06:05:46.918859Z",
     "iopub.status.idle": "2024-07-03T06:05:46.921653Z",
     "shell.execute_reply": "2024-07-03T06:05:46.921179Z",
     "shell.execute_reply.started": "2024-07-03T05:09:59.166961Z"
    },
    "papermill": {
     "duration": 0.049032,
     "end_time": "2024-07-03T06:05:46.921751",
     "exception": false,
     "start_time": "2024-07-03T06:05:46.872719",
     "status": "completed"
    },
    "tags": []
   },
   "outputs": [],
   "source": [
    "def preprocess(img):\n",
    "    (h, w) = img.shape\n",
    "    \n",
    "    final_img = np.ones([64, 256])*255 \n",
    "    \n",
    "    # crop\n",
    "    if w > 256:\n",
    "        img = img[:, :256]\n",
    "        \n",
    "    if h > 64:\n",
    "        img = img[:64, :]\n",
    "    \n",
    "    \n",
    "    final_img[:h, :w] = img\n",
    "    return cv2.rotate(final_img, cv2.ROTATE_90_CLOCKWISE)"
   ]
  },
  {
   "cell_type": "code",
   "execution_count": 15,
   "metadata": {
    "execution": {
     "iopub.execute_input": "2024-07-03T06:05:47.006017Z",
     "iopub.status.busy": "2024-07-03T06:05:47.005440Z",
     "iopub.status.idle": "2024-07-03T06:05:47.008142Z",
     "shell.execute_reply": "2024-07-03T06:05:47.007521Z",
     "shell.execute_reply.started": "2024-07-03T05:09:59.180307Z"
    },
    "papermill": {
     "duration": 0.046252,
     "end_time": "2024-07-03T06:05:47.008242",
     "exception": false,
     "start_time": "2024-07-03T06:05:46.961990",
     "status": "completed"
    },
    "tags": []
   },
   "outputs": [],
   "source": [
    "train_size = 30000\n",
    "valid_size= 3000"
   ]
  },
  {
   "cell_type": "code",
   "execution_count": 16,
   "metadata": {
    "execution": {
     "iopub.execute_input": "2024-07-03T06:05:47.095823Z",
     "iopub.status.busy": "2024-07-03T06:05:47.095191Z",
     "iopub.status.idle": "2024-07-03T06:09:59.621096Z",
     "shell.execute_reply": "2024-07-03T06:09:59.620468Z",
     "shell.execute_reply.started": "2024-07-03T05:09:59.190122Z"
    },
    "papermill": {
     "duration": 252.572438,
     "end_time": "2024-07-03T06:09:59.621233",
     "exception": false,
     "start_time": "2024-07-03T06:05:47.048795",
     "status": "completed"
    },
    "tags": []
   },
   "outputs": [],
   "source": [
    "train_x = []\n",
    "\n",
    "for i in range(train_size):\n",
    "    img_dir = '/kaggle/input/handwriting-recognition/train_v2/train/'+train.loc[i, 'FILENAME']\n",
    "    image = cv2.imread(img_dir, cv2.IMREAD_GRAYSCALE)\n",
    "    image = preprocess(image)\n",
    "    image = image/255.\n",
    "    train_x.append(image)"
   ]
  },
  {
   "cell_type": "code",
   "execution_count": 17,
   "metadata": {
    "execution": {
     "iopub.execute_input": "2024-07-03T06:09:59.710137Z",
     "iopub.status.busy": "2024-07-03T06:09:59.709505Z",
     "iopub.status.idle": "2024-07-03T06:10:32.804633Z",
     "shell.execute_reply": "2024-07-03T06:10:32.803933Z",
     "shell.execute_reply.started": "2024-07-03T05:12:53.191888Z"
    },
    "papermill": {
     "duration": 33.141754,
     "end_time": "2024-07-03T06:10:32.804744",
     "exception": false,
     "start_time": "2024-07-03T06:09:59.662990",
     "status": "completed"
    },
    "tags": []
   },
   "outputs": [],
   "source": [
    "valid_x = []\n",
    "\n",
    "for i in range(valid_size):\n",
    "    img_dir = '/kaggle/input/handwriting-recognition/validation_v2/validation/'+valid.loc[i, 'FILENAME']\n",
    "    image = cv2.imread(img_dir, cv2.IMREAD_GRAYSCALE)\n",
    "    image = preprocess(image)\n",
    "    image = image/255.\n",
    "    valid_x.append(image)"
   ]
  },
  {
   "cell_type": "code",
   "execution_count": 18,
   "metadata": {
    "execution": {
     "iopub.execute_input": "2024-07-03T06:10:32.891717Z",
     "iopub.status.busy": "2024-07-03T06:10:32.891109Z",
     "iopub.status.idle": "2024-07-03T06:10:34.127831Z",
     "shell.execute_reply": "2024-07-03T06:10:34.127170Z",
     "shell.execute_reply.started": "2024-07-03T05:13:11.646382Z"
    },
    "papermill": {
     "duration": 1.282324,
     "end_time": "2024-07-03T06:10:34.127955",
     "exception": false,
     "start_time": "2024-07-03T06:10:32.845631",
     "status": "completed"
    },
    "tags": []
   },
   "outputs": [],
   "source": [
    "train_x = np.array(train_x).reshape(-1, 256, 64, 1)\n",
    "valid_x = np.array(valid_x).reshape(-1, 256, 64, 1)"
   ]
  },
  {
   "cell_type": "markdown",
   "metadata": {
    "papermill": {
     "duration": 0.040655,
     "end_time": "2024-07-03T06:10:34.208943",
     "exception": false,
     "start_time": "2024-07-03T06:10:34.168288",
     "status": "completed"
    },
    "tags": []
   },
   "source": [
    "# convert labels to numerical format and back\n",
    "\n",
    "Training modelnya menggunakan CTC Loss jadi label-label harus dalam bentuk numerik dan panjangnya disesuaikan selama pelatihan"
   ]
  },
  {
   "cell_type": "code",
   "execution_count": 19,
   "metadata": {
    "execution": {
     "iopub.execute_input": "2024-07-03T06:10:34.298300Z",
     "iopub.status.busy": "2024-07-03T06:10:34.297691Z",
     "iopub.status.idle": "2024-07-03T06:10:34.300729Z",
     "shell.execute_reply": "2024-07-03T06:10:34.300187Z",
     "shell.execute_reply.started": "2024-07-03T05:13:12.936044Z"
    },
    "papermill": {
     "duration": 0.051195,
     "end_time": "2024-07-03T06:10:34.300826",
     "exception": false,
     "start_time": "2024-07-03T06:10:34.249631",
     "status": "completed"
    },
    "tags": []
   },
   "outputs": [],
   "source": [
    "alphabets = u\"ABCDEFGHIJKLMNOPQRSTUVWXYZ-' \"\n",
    "max_str_len = 24 # max length of input labels\n",
    "num_of_characters = len(alphabets) + 1 # +1 for ctc pseudo blank\n",
    "num_of_timestamps = 64 # max length of predicted labels\n",
    "\n",
    "def label_to_num(label):\n",
    "    label_num = []\n",
    "    for ch in label:\n",
    "        label_num.append(alphabets.find(ch))\n",
    "        \n",
    "    return np.array(label_num)\n",
    "\n",
    "def num_to_label(num):\n",
    "    ret = \"\"\n",
    "    for ch in num:\n",
    "        if ch == -1:  # CTC Blank\n",
    "            break\n",
    "        else:\n",
    "            ret+=alphabets[ch]\n",
    "    return ret"
   ]
  },
  {
   "cell_type": "code",
   "execution_count": 20,
   "metadata": {
    "execution": {
     "iopub.execute_input": "2024-07-03T06:10:34.385412Z",
     "iopub.status.busy": "2024-07-03T06:10:34.384724Z",
     "iopub.status.idle": "2024-07-03T06:10:34.387556Z",
     "shell.execute_reply": "2024-07-03T06:10:34.388086Z",
     "shell.execute_reply.started": "2024-07-03T05:13:12.945772Z"
    },
    "papermill": {
     "duration": 0.047378,
     "end_time": "2024-07-03T06:10:34.388207",
     "exception": false,
     "start_time": "2024-07-03T06:10:34.340829",
     "status": "completed"
    },
    "tags": []
   },
   "outputs": [
    {
     "name": "stdout",
     "output_type": "stream",
     "text": [
      "NUR HIKMAH \n",
      " [13 20 17 28  7  8 10 12  0  7]\n"
     ]
    }
   ],
   "source": [
    "name = 'NUR HIKMAH'\n",
    "print(name, '\\n',label_to_num(name))"
   ]
  },
  {
   "cell_type": "code",
   "execution_count": 21,
   "metadata": {
    "execution": {
     "iopub.execute_input": "2024-07-03T06:10:34.478303Z",
     "iopub.status.busy": "2024-07-03T06:10:34.477399Z",
     "iopub.status.idle": "2024-07-03T06:10:35.853444Z",
     "shell.execute_reply": "2024-07-03T06:10:35.852862Z",
     "shell.execute_reply.started": "2024-07-03T05:13:12.956710Z"
    },
    "papermill": {
     "duration": 1.423678,
     "end_time": "2024-07-03T06:10:35.853566",
     "exception": false,
     "start_time": "2024-07-03T06:10:34.429888",
     "status": "completed"
    },
    "tags": []
   },
   "outputs": [],
   "source": [
    "train_y = np.ones([train_size, max_str_len]) * -1\n",
    "train_label_len = np.zeros([train_size, 1])\n",
    "train_input_len = np.ones([train_size, 1]) * (num_of_timestamps-2)\n",
    "train_output = np.zeros([train_size])\n",
    "\n",
    "for i in range(train_size):\n",
    "    train_label_len[i] = len(train.loc[i, 'IDENTITY'])\n",
    "    train_y[i, 0:len(train.loc[i, 'IDENTITY'])]= label_to_num(train.loc[i, 'IDENTITY'])    "
   ]
  },
  {
   "cell_type": "code",
   "execution_count": 22,
   "metadata": {
    "execution": {
     "iopub.execute_input": "2024-07-03T06:10:35.961396Z",
     "iopub.status.busy": "2024-07-03T06:10:35.942002Z",
     "iopub.status.idle": "2024-07-03T06:10:36.094194Z",
     "shell.execute_reply": "2024-07-03T06:10:36.094688Z",
     "shell.execute_reply.started": "2024-07-03T05:13:14.757835Z"
    },
    "papermill": {
     "duration": 0.200251,
     "end_time": "2024-07-03T06:10:36.094812",
     "exception": false,
     "start_time": "2024-07-03T06:10:35.894561",
     "status": "completed"
    },
    "tags": []
   },
   "outputs": [],
   "source": [
    "valid_y = np.ones([valid_size, max_str_len]) * -1\n",
    "valid_label_len = np.zeros([valid_size, 1])\n",
    "valid_input_len = np.ones([valid_size, 1]) * (num_of_timestamps-2)\n",
    "valid_output = np.zeros([valid_size])\n",
    "\n",
    "for i in range(valid_size):\n",
    "    valid_label_len[i] = len(valid.loc[i, 'IDENTITY'])\n",
    "    valid_y[i, 0:len(valid.loc[i, 'IDENTITY'])]= label_to_num(valid.loc[i, 'IDENTITY'])    "
   ]
  },
  {
   "cell_type": "code",
   "execution_count": 23,
   "metadata": {
    "execution": {
     "iopub.execute_input": "2024-07-03T06:10:36.182561Z",
     "iopub.status.busy": "2024-07-03T06:10:36.181776Z",
     "iopub.status.idle": "2024-07-03T06:10:36.185389Z",
     "shell.execute_reply": "2024-07-03T06:10:36.184745Z",
     "shell.execute_reply.started": "2024-07-03T05:13:14.935971Z"
    },
    "papermill": {
     "duration": 0.049872,
     "end_time": "2024-07-03T06:10:36.185491",
     "exception": false,
     "start_time": "2024-07-03T06:10:36.135619",
     "status": "completed"
    },
    "tags": []
   },
   "outputs": [
    {
     "name": "stdout",
     "output_type": "stream",
     "text": [
      "True label :  NOUR \n",
      "train_y :  [13. 14. 20. 17. -1. -1. -1. -1. -1. -1. -1. -1. -1. -1. -1. -1. -1. -1.\n",
      " -1. -1. -1. -1. -1. -1.] \n",
      "train_label_len :  [4.] \n",
      "train_input_len :  [62.]\n"
     ]
    }
   ],
   "source": [
    "print('True label : ',train.loc[100, 'IDENTITY'] , '\\ntrain_y : ',train_y[100],'\\ntrain_label_len : ',train_label_len[100], \n",
    "      '\\ntrain_input_len : ', train_input_len[100])"
   ]
  },
  {
   "cell_type": "markdown",
   "metadata": {
    "papermill": {
     "duration": 0.040578,
     "end_time": "2024-07-03T06:10:36.267949",
     "exception": false,
     "start_time": "2024-07-03T06:10:36.227371",
     "status": "completed"
    },
    "tags": []
   },
   "source": [
    "# model building\n",
    "\n",
    "Model ini menggunakan CNN untuk mengidentifikasi fitur-fitur penting dari gambar tulisan tangan, seperti pola dan tekstur. Kemudian, RNN digunakan untuk memahami urutan karakter atau kata dalam gambar tulisan tangan ini."
   ]
  },
  {
   "cell_type": "code",
   "execution_count": 24,
   "metadata": {
    "execution": {
     "iopub.execute_input": "2024-07-03T06:10:36.367613Z",
     "iopub.status.busy": "2024-07-03T06:10:36.366816Z",
     "iopub.status.idle": "2024-07-03T06:10:39.030944Z",
     "shell.execute_reply": "2024-07-03T06:10:39.030293Z",
     "shell.execute_reply.started": "2024-07-03T05:13:14.945847Z"
    },
    "papermill": {
     "duration": 2.721218,
     "end_time": "2024-07-03T06:10:39.031060",
     "exception": false,
     "start_time": "2024-07-03T06:10:36.309842",
     "status": "completed"
    },
    "tags": []
   },
   "outputs": [
    {
     "name": "stdout",
     "output_type": "stream",
     "text": [
      "Model: \"functional_1\"\n",
      "_________________________________________________________________\n",
      "Layer (type)                 Output Shape              Param #   \n",
      "=================================================================\n",
      "input (InputLayer)           [(None, 256, 64, 1)]      0         \n",
      "_________________________________________________________________\n",
      "conv1 (Conv2D)               (None, 256, 64, 32)       320       \n",
      "_________________________________________________________________\n",
      "batch_normalization (BatchNo (None, 256, 64, 32)       128       \n",
      "_________________________________________________________________\n",
      "activation (Activation)      (None, 256, 64, 32)       0         \n",
      "_________________________________________________________________\n",
      "max1 (MaxPooling2D)          (None, 128, 32, 32)       0         \n",
      "_________________________________________________________________\n",
      "conv2 (Conv2D)               (None, 128, 32, 64)       18496     \n",
      "_________________________________________________________________\n",
      "batch_normalization_1 (Batch (None, 128, 32, 64)       256       \n",
      "_________________________________________________________________\n",
      "activation_1 (Activation)    (None, 128, 32, 64)       0         \n",
      "_________________________________________________________________\n",
      "max2 (MaxPooling2D)          (None, 64, 16, 64)        0         \n",
      "_________________________________________________________________\n",
      "dropout (Dropout)            (None, 64, 16, 64)        0         \n",
      "_________________________________________________________________\n",
      "conv3 (Conv2D)               (None, 64, 16, 128)       73856     \n",
      "_________________________________________________________________\n",
      "batch_normalization_2 (Batch (None, 64, 16, 128)       512       \n",
      "_________________________________________________________________\n",
      "activation_2 (Activation)    (None, 64, 16, 128)       0         \n",
      "_________________________________________________________________\n",
      "max3 (MaxPooling2D)          (None, 64, 8, 128)        0         \n",
      "_________________________________________________________________\n",
      "dropout_1 (Dropout)          (None, 64, 8, 128)        0         \n",
      "_________________________________________________________________\n",
      "reshape (Reshape)            (None, 64, 1024)          0         \n",
      "_________________________________________________________________\n",
      "dense1 (Dense)               (None, 64, 64)            65600     \n",
      "_________________________________________________________________\n",
      "lstm1 (Bidirectional)        (None, 64, 512)           657408    \n",
      "_________________________________________________________________\n",
      "lstm2 (Bidirectional)        (None, 64, 512)           1574912   \n",
      "_________________________________________________________________\n",
      "dense2 (Dense)               (None, 64, 30)            15390     \n",
      "_________________________________________________________________\n",
      "softmax (Activation)         (None, 64, 30)            0         \n",
      "=================================================================\n",
      "Total params: 2,406,878\n",
      "Trainable params: 2,406,430\n",
      "Non-trainable params: 448\n",
      "_________________________________________________________________\n"
     ]
    }
   ],
   "source": [
    "# Input layer: expects grayscale images of shape (256, 64, 1)\n",
    "input_data = Input(shape=(256, 64, 1), name='input')\n",
    "\n",
    "# First Convolutional Block\n",
    "inner = Conv2D(32, (3, 3), padding='same', name='conv1', kernel_initializer='he_normal')(input_data)  \n",
    "inner = BatchNormalization()(inner)  \n",
    "inner = Activation('relu')(inner) \n",
    "inner = MaxPooling2D(pool_size=(2, 2), name='max1')(inner)  \n",
    "\n",
    "# Second Convolutional Block\n",
    "inner = Conv2D(64, (3, 3), padding='same', name='conv2', kernel_initializer='he_normal')(inner)  #\n",
    "inner = BatchNormalization()(inner) \n",
    "inner = Activation('relu')(inner)  \n",
    "inner = MaxPooling2D(pool_size=(2, 2), name='max2')(inner) \n",
    "inner = Dropout(0.3)(inner)  \n",
    "\n",
    "# Third Convolutional Block\n",
    "inner = Conv2D(128, (3, 3), padding='same', name='conv3', kernel_initializer='he_normal')(inner)  # 128 filters, 3x3 kernel\n",
    "inner = BatchNormalization()(inner) \n",
    "inner = Activation('relu')(inner)  \n",
    "inner = MaxPooling2D(pool_size=(1, 2), name='max3')(inner)  \n",
    "inner = Dropout(0.3)(inner) \n",
    "\n",
    "# Reshape layer to prepare for RNN input\n",
    "inner = Reshape(target_shape=((64, 1024)), name='reshape')(inner)  # Reshape to (64, 1024)\n",
    "inner = Dense(64, activation='relu', kernel_initializer='he_normal', name='dense1')(inner) \n",
    "\n",
    "# Recurrent Neural Network (RNN) Layers\n",
    "inner = Bidirectional(LSTM(256, return_sequences=True), name='lstm1')(inner)  # Bidirectional LSTM with 256 units, returns sequences\n",
    "inner = Bidirectional(LSTM(256, return_sequences=True), name='lstm2')(inner)  # Another Bidirectional LSTM with 256 units\n",
    "\n",
    "# Output layer\n",
    "inner = Dense(num_of_characters, kernel_initializer='he_normal', name='dense2')(inner) \n",
    "y_pred = Activation('softmax', name='softmax')(inner)  \n",
    "\n",
    "# Model definition\n",
    "model = Model(inputs=input_data, outputs=y_pred)  \n",
    "model.summary() "
   ]
  },
  {
   "cell_type": "markdown",
   "metadata": {
    "papermill": {
     "duration": 0.04134,
     "end_time": "2024-07-03T06:10:39.114301",
     "exception": false,
     "start_time": "2024-07-03T06:10:39.072961",
     "status": "completed"
    },
    "tags": []
   },
   "source": [
    "# CTC loss\n",
    "\n",
    "CTC loss memungkinkan model untuk memprediksi urutan karakter dalam gambar tanpa memerlukan informasi eksplisit tentang letak setiap karakter dalam gambar. Cocok untuk menangani variasi dalam panjang tulisan atau ketidakpastian dalam letak karakter-karakter yang ditulis tangan"
   ]
  },
  {
   "cell_type": "code",
   "execution_count": 25,
   "metadata": {
    "execution": {
     "iopub.execute_input": "2024-07-03T06:10:39.202561Z",
     "iopub.status.busy": "2024-07-03T06:10:39.201732Z",
     "iopub.status.idle": "2024-07-03T06:10:39.204564Z",
     "shell.execute_reply": "2024-07-03T06:10:39.204061Z",
     "shell.execute_reply.started": "2024-07-03T05:13:17.967384Z"
    },
    "papermill": {
     "duration": 0.049253,
     "end_time": "2024-07-03T06:10:39.204659",
     "exception": false,
     "start_time": "2024-07-03T06:10:39.155406",
     "status": "completed"
    },
    "tags": []
   },
   "outputs": [],
   "source": [
    "def ctc_lambda_func(args):\n",
    "    y_pred, labels, input_length, label_length = args\n",
    "    # the 2 is critical here since the first couple outputs of the RNN\n",
    "    # tend to be garbage\n",
    "    y_pred = y_pred[:, 2:, :]\n",
    "    return K.ctc_batch_cost(labels, y_pred, input_length, label_length)"
   ]
  },
  {
   "cell_type": "code",
   "execution_count": 26,
   "metadata": {
    "execution": {
     "iopub.execute_input": "2024-07-03T06:10:39.299512Z",
     "iopub.status.busy": "2024-07-03T06:10:39.297702Z",
     "iopub.status.idle": "2024-07-03T06:10:39.397097Z",
     "shell.execute_reply": "2024-07-03T06:10:39.396557Z",
     "shell.execute_reply.started": "2024-07-03T05:13:17.978488Z"
    },
    "papermill": {
     "duration": 0.150704,
     "end_time": "2024-07-03T06:10:39.397210",
     "exception": false,
     "start_time": "2024-07-03T06:10:39.246506",
     "status": "completed"
    },
    "tags": []
   },
   "outputs": [],
   "source": [
    "labels = Input(name='gtruth_labels', shape=[max_str_len], dtype='float32')\n",
    "input_length = Input(name='input_length', shape=[1], dtype='int64')\n",
    "label_length = Input(name='label_length', shape=[1], dtype='int64')\n",
    "\n",
    "ctc_loss = Lambda(ctc_lambda_func, output_shape=(1,), name='ctc')([y_pred, labels, input_length, label_length])\n",
    "model_final = Model(inputs=[input_data, labels, input_length, label_length], outputs=ctc_loss)"
   ]
  },
  {
   "cell_type": "markdown",
   "metadata": {
    "papermill": {
     "duration": 0.042372,
     "end_time": "2024-07-03T06:10:39.481500",
     "exception": false,
     "start_time": "2024-07-03T06:10:39.439128",
     "status": "completed"
    },
    "tags": []
   },
   "source": [
    "# compile model"
   ]
  },
  {
   "cell_type": "code",
   "execution_count": 27,
   "metadata": {
    "execution": {
     "iopub.execute_input": "2024-07-03T06:10:39.576265Z",
     "iopub.status.busy": "2024-07-03T06:10:39.575356Z",
     "iopub.status.idle": "2024-07-03T06:10:39.583109Z",
     "shell.execute_reply": "2024-07-03T06:10:39.582484Z",
     "shell.execute_reply.started": "2024-07-03T05:13:18.100273Z"
    },
    "papermill": {
     "duration": 0.060549,
     "end_time": "2024-07-03T06:10:39.583207",
     "exception": false,
     "start_time": "2024-07-03T06:10:39.522658",
     "status": "completed"
    },
    "tags": []
   },
   "outputs": [],
   "source": [
    "# the loss calculation occurs elsewhere, so we use a dummy lambda function for the loss\n",
    "model_final.compile(loss={'ctc': lambda y_true, y_pred: y_pred}, optimizer=Adam(lr = 0.0001))"
   ]
  },
  {
   "cell_type": "markdown",
   "metadata": {
    "papermill": {
     "duration": 0.04095,
     "end_time": "2024-07-03T06:10:39.665451",
     "exception": false,
     "start_time": "2024-07-03T06:10:39.624501",
     "status": "completed"
    },
    "tags": []
   },
   "source": [
    "# model training"
   ]
  },
  {
   "cell_type": "code",
   "execution_count": 28,
   "metadata": {
    "execution": {
     "iopub.execute_input": "2024-07-03T06:10:39.753706Z",
     "iopub.status.busy": "2024-07-03T06:10:39.753088Z",
     "iopub.status.idle": "2024-07-03T06:43:00.432201Z",
     "shell.execute_reply": "2024-07-03T06:43:00.431505Z",
     "shell.execute_reply.started": "2024-07-03T05:13:18.120419Z"
    },
    "papermill": {
     "duration": 1940.725276,
     "end_time": "2024-07-03T06:43:00.432336",
     "exception": false,
     "start_time": "2024-07-03T06:10:39.707060",
     "status": "completed"
    },
    "tags": []
   },
   "outputs": [
    {
     "name": "stdout",
     "output_type": "stream",
     "text": [
      "Epoch 1/60\n",
      "235/235 [==============================] - 34s 144ms/step - loss: 25.1336 - val_loss: 21.0913\n",
      "Epoch 2/60\n",
      "235/235 [==============================] - 32s 136ms/step - loss: 20.1499 - val_loss: 20.0368\n",
      "Epoch 3/60\n",
      "235/235 [==============================] - 32s 136ms/step - loss: 19.8060 - val_loss: 19.7296\n",
      "Epoch 4/60\n",
      "235/235 [==============================] - 32s 136ms/step - loss: 19.4537 - val_loss: 19.3234\n",
      "Epoch 5/60\n",
      "235/235 [==============================] - 32s 136ms/step - loss: 18.9907 - val_loss: 18.7229\n",
      "Epoch 6/60\n",
      "235/235 [==============================] - 32s 138ms/step - loss: 18.2513 - val_loss: 17.8705\n",
      "Epoch 7/60\n",
      "235/235 [==============================] - 32s 138ms/step - loss: 17.3303 - val_loss: 16.8454\n",
      "Epoch 8/60\n",
      "235/235 [==============================] - 32s 136ms/step - loss: 16.2837 - val_loss: 15.5813\n",
      "Epoch 9/60\n",
      "235/235 [==============================] - 32s 137ms/step - loss: 14.7524 - val_loss: 14.2161\n",
      "Epoch 10/60\n",
      "235/235 [==============================] - 32s 136ms/step - loss: 13.0341 - val_loss: 12.5708\n",
      "Epoch 11/60\n",
      "235/235 [==============================] - 32s 136ms/step - loss: 11.1719 - val_loss: 11.6144\n",
      "Epoch 12/60\n",
      "235/235 [==============================] - 32s 136ms/step - loss: 9.2593 - val_loss: 10.6126\n",
      "Epoch 13/60\n",
      "235/235 [==============================] - 32s 135ms/step - loss: 7.3802 - val_loss: 8.3760\n",
      "Epoch 14/60\n",
      "235/235 [==============================] - 32s 136ms/step - loss: 6.1944 - val_loss: 6.2904\n",
      "Epoch 15/60\n",
      "235/235 [==============================] - 32s 135ms/step - loss: 5.4612 - val_loss: 5.1262\n",
      "Epoch 16/60\n",
      "235/235 [==============================] - 32s 136ms/step - loss: 4.9039 - val_loss: 5.3010\n",
      "Epoch 17/60\n",
      "235/235 [==============================] - 32s 136ms/step - loss: 4.5108 - val_loss: 4.4456\n",
      "Epoch 18/60\n",
      "235/235 [==============================] - 32s 135ms/step - loss: 4.1680 - val_loss: 3.6604\n",
      "Epoch 19/60\n",
      "235/235 [==============================] - 32s 135ms/step - loss: 3.8969 - val_loss: 3.6421\n",
      "Epoch 20/60\n",
      "235/235 [==============================] - 32s 136ms/step - loss: 3.6789 - val_loss: 3.4998\n",
      "Epoch 21/60\n",
      "235/235 [==============================] - 32s 136ms/step - loss: 3.4634 - val_loss: 3.2476\n",
      "Epoch 22/60\n",
      "235/235 [==============================] - 32s 136ms/step - loss: 3.2982 - val_loss: 3.1499\n",
      "Epoch 23/60\n",
      "235/235 [==============================] - 32s 136ms/step - loss: 3.1357 - val_loss: 2.9616\n",
      "Epoch 24/60\n",
      "235/235 [==============================] - 32s 137ms/step - loss: 3.0001 - val_loss: 2.7924\n",
      "Epoch 25/60\n",
      "235/235 [==============================] - 32s 137ms/step - loss: 2.8982 - val_loss: 2.8217\n",
      "Epoch 26/60\n",
      "235/235 [==============================] - 32s 138ms/step - loss: 2.7735 - val_loss: 2.6704\n",
      "Epoch 27/60\n",
      "235/235 [==============================] - 32s 137ms/step - loss: 2.6825 - val_loss: 2.6352\n",
      "Epoch 28/60\n",
      "235/235 [==============================] - 32s 136ms/step - loss: 2.5913 - val_loss: 2.5555\n",
      "Epoch 29/60\n",
      "235/235 [==============================] - 32s 137ms/step - loss: 2.5207 - val_loss: 2.5491\n",
      "Epoch 30/60\n",
      "235/235 [==============================] - 32s 136ms/step - loss: 2.4346 - val_loss: 2.4827\n",
      "Epoch 31/60\n",
      "235/235 [==============================] - 32s 136ms/step - loss: 2.3697 - val_loss: 2.4431\n",
      "Epoch 32/60\n",
      "235/235 [==============================] - 32s 136ms/step - loss: 2.3057 - val_loss: 2.3997\n",
      "Epoch 33/60\n",
      "235/235 [==============================] - 32s 136ms/step - loss: 2.2541 - val_loss: 2.3406\n",
      "Epoch 34/60\n",
      "235/235 [==============================] - 32s 137ms/step - loss: 2.1889 - val_loss: 2.3699\n",
      "Epoch 35/60\n",
      "235/235 [==============================] - 32s 136ms/step - loss: 2.1316 - val_loss: 2.2865\n",
      "Epoch 36/60\n",
      "235/235 [==============================] - 32s 137ms/step - loss: 2.0676 - val_loss: 2.3323\n",
      "Epoch 37/60\n",
      "235/235 [==============================] - 32s 136ms/step - loss: 2.0271 - val_loss: 2.2189\n",
      "Epoch 38/60\n",
      "235/235 [==============================] - 32s 136ms/step - loss: 1.9899 - val_loss: 2.2482\n",
      "Epoch 39/60\n",
      "235/235 [==============================] - 32s 136ms/step - loss: 1.9395 - val_loss: 2.2257\n",
      "Epoch 40/60\n",
      "235/235 [==============================] - 32s 136ms/step - loss: 1.8976 - val_loss: 2.2090\n",
      "Epoch 41/60\n",
      "235/235 [==============================] - 32s 137ms/step - loss: 1.8525 - val_loss: 2.1873\n",
      "Epoch 42/60\n",
      "235/235 [==============================] - 32s 136ms/step - loss: 1.8110 - val_loss: 2.1661\n",
      "Epoch 43/60\n",
      "235/235 [==============================] - 32s 136ms/step - loss: 1.7716 - val_loss: 2.1750\n",
      "Epoch 44/60\n",
      "235/235 [==============================] - 32s 137ms/step - loss: 1.7396 - val_loss: 2.1293\n",
      "Epoch 45/60\n",
      "235/235 [==============================] - 32s 137ms/step - loss: 1.6883 - val_loss: 2.1277\n",
      "Epoch 46/60\n",
      "235/235 [==============================] - 32s 137ms/step - loss: 1.6619 - val_loss: 2.1445\n",
      "Epoch 47/60\n",
      "235/235 [==============================] - 32s 136ms/step - loss: 1.6337 - val_loss: 2.1220\n",
      "Epoch 48/60\n",
      "235/235 [==============================] - 32s 137ms/step - loss: 1.5838 - val_loss: 2.1060\n",
      "Epoch 49/60\n",
      "235/235 [==============================] - 32s 137ms/step - loss: 1.5676 - val_loss: 2.1320\n",
      "Epoch 50/60\n",
      "235/235 [==============================] - 32s 136ms/step - loss: 1.5133 - val_loss: 2.1396\n",
      "Epoch 51/60\n",
      "235/235 [==============================] - 32s 137ms/step - loss: 1.5022 - val_loss: 2.1335\n",
      "Epoch 52/60\n",
      "235/235 [==============================] - 32s 137ms/step - loss: 1.4751 - val_loss: 2.1144\n",
      "Epoch 53/60\n",
      "235/235 [==============================] - 32s 136ms/step - loss: 1.4496 - val_loss: 2.1292\n",
      "Epoch 54/60\n",
      "235/235 [==============================] - 32s 137ms/step - loss: 1.4127 - val_loss: 2.1038\n",
      "Epoch 55/60\n",
      "235/235 [==============================] - 32s 137ms/step - loss: 1.3825 - val_loss: 2.1402\n",
      "Epoch 56/60\n",
      "235/235 [==============================] - 32s 136ms/step - loss: 1.3504 - val_loss: 2.1120\n",
      "Epoch 57/60\n",
      "235/235 [==============================] - 32s 137ms/step - loss: 1.3225 - val_loss: 2.1220\n",
      "Epoch 58/60\n",
      "235/235 [==============================] - 32s 136ms/step - loss: 1.2883 - val_loss: 2.1120\n",
      "Epoch 59/60\n",
      "235/235 [==============================] - 32s 136ms/step - loss: 1.2607 - val_loss: 2.1279\n",
      "Epoch 60/60\n",
      "235/235 [==============================] - 32s 137ms/step - loss: 1.2496 - val_loss: 2.0912\n"
     ]
    }
   ],
   "source": [
    "history = model_final.fit(x=[train_x, train_y, train_input_len, train_label_len], y=train_output, \n",
    "                          validation_data=([valid_x, valid_y, valid_input_len, valid_label_len], valid_output),\n",
    "                          epochs=60, batch_size=128)"
   ]
  },
  {
   "cell_type": "code",
   "execution_count": 29,
   "metadata": {
    "execution": {
     "iopub.execute_input": "2024-07-03T06:43:10.063000Z",
     "iopub.status.busy": "2024-07-03T06:43:10.057391Z",
     "iopub.status.idle": "2024-07-03T06:43:10.216292Z",
     "shell.execute_reply": "2024-07-03T06:43:10.215649Z",
     "shell.execute_reply.started": "2024-07-03T05:46:42.392789Z"
    },
    "papermill": {
     "duration": 4.940299,
     "end_time": "2024-07-03T06:43:10.216402",
     "exception": false,
     "start_time": "2024-07-03T06:43:05.276103",
     "status": "completed"
    },
    "tags": []
   },
   "outputs": [
    {
     "data": {
      "image/png": "[encoded data removed]",
      "text/plain": [
       "<Figure size 576x360 with 1 Axes>"
      ]
     },
     "metadata": {
      "needs_background": "light"
     },
     "output_type": "display_data"
    }
   ],
   "source": [
    "# Function to plot the training history\n",
    "def plot_training_history(history):\n",
    "    plt.figure(figsize=(8,5))\n",
    "\n",
    "    # Plot training & validation loss values\n",
    "    plt.plot(history.history['loss'])\n",
    "    plt.plot(history.history['val_loss'])\n",
    "    plt.title('Model loss')\n",
    "    plt.ylabel('Loss')\n",
    "    plt.xlabel('Epoch')\n",
    "    plt.legend(['Train', 'Validation'], loc='upper left')\n",
    "    plt.show()\n",
    "\n",
    "# Plot the training history\n",
    "plot_training_history(history)"
   ]
  },
  {
   "cell_type": "markdown",
   "metadata": {
    "papermill": {
     "duration": 4.831472,
     "end_time": "2024-07-03T06:43:19.878084",
     "exception": false,
     "start_time": "2024-07-03T06:43:15.046612",
     "status": "completed"
    },
    "tags": []
   },
   "source": [
    "# model performance"
   ]
  },
  {
   "cell_type": "code",
   "execution_count": 30,
   "metadata": {
    "execution": {
     "iopub.execute_input": "2024-07-03T06:43:29.468382Z",
     "iopub.status.busy": "2024-07-03T06:43:29.467704Z",
     "iopub.status.idle": "2024-07-03T06:43:32.619379Z",
     "shell.execute_reply": "2024-07-03T06:43:32.618705Z",
     "shell.execute_reply.started": "2024-07-03T05:46:42.573414Z"
    },
    "papermill": {
     "duration": 7.943711,
     "end_time": "2024-07-03T06:43:32.619488",
     "exception": false,
     "start_time": "2024-07-03T06:43:24.675777",
     "status": "completed"
    },
    "tags": []
   },
   "outputs": [],
   "source": [
    "preds = model.predict(valid_x)\n",
    "decoded = K.get_value(K.ctc_decode(preds, input_length=np.ones(preds.shape[0])*preds.shape[1], \n",
    "                                   greedy=True)[0][0])\n",
    "\n",
    "prediction = []\n",
    "for i in range(valid_size):\n",
    "    prediction.append(num_to_label(decoded[i]))"
   ]
  },
  {
   "cell_type": "code",
   "execution_count": 31,
   "metadata": {
    "execution": {
     "iopub.execute_input": "2024-07-03T06:43:42.193706Z",
     "iopub.status.busy": "2024-07-03T06:43:42.188709Z",
     "iopub.status.idle": "2024-07-03T06:43:42.211900Z",
     "shell.execute_reply": "2024-07-03T06:43:42.211350Z",
     "shell.execute_reply.started": "2024-07-03T05:46:45.832322Z"
    },
    "papermill": {
     "duration": 4.842734,
     "end_time": "2024-07-03T06:43:42.212045",
     "exception": false,
     "start_time": "2024-07-03T06:43:37.369311",
     "status": "completed"
    },
    "tags": []
   },
   "outputs": [
    {
     "name": "stdout",
     "output_type": "stream",
     "text": [
      "Correct characters predicted : 79.71%\n",
      "Correct words predicted      : 67.17%\n"
     ]
    }
   ],
   "source": [
    "y_true = valid.loc[0:valid_size, 'IDENTITY']\n",
    "correct_char = 0\n",
    "total_char = 0\n",
    "correct = 0\n",
    "\n",
    "for i in range(valid_size):\n",
    "    pr = prediction[i]\n",
    "    tr = y_true[i]\n",
    "    total_char += len(tr)\n",
    "    \n",
    "    for j in range(min(len(tr), len(pr))):\n",
    "        if tr[j] == pr[j]:\n",
    "            correct_char += 1\n",
    "            \n",
    "    if pr == tr :\n",
    "        correct += 1 \n",
    "    \n",
    "print('Correct characters predicted : %.2f%%' %(correct_char*100/total_char))\n",
    "print('Correct words predicted      : %.2f%%' %(correct*100/valid_size))"
   ]
  },
  {
   "cell_type": "code",
   "execution_count": 32,
   "metadata": {
    "execution": {
     "iopub.execute_input": "2024-07-03T06:43:51.878415Z",
     "iopub.status.busy": "2024-07-03T06:43:51.876743Z",
     "iopub.status.idle": "2024-07-03T06:43:51.975380Z",
     "shell.execute_reply": "2024-07-03T06:43:51.974798Z",
     "shell.execute_reply.started": "2024-07-03T05:46:45.877070Z"
    },
    "papermill": {
     "duration": 4.948112,
     "end_time": "2024-07-03T06:43:51.975492",
     "exception": false,
     "start_time": "2024-07-03T06:43:47.027380",
     "status": "completed"
    },
    "tags": []
   },
   "outputs": [
    {
     "data": {
      "image/png": "[encoded data removed]",
      "text/plain": [
       "<Figure size 576x432 with 1 Axes>"
      ]
     },
     "metadata": {
      "needs_background": "light"
     },
     "output_type": "display_data"
    }
   ],
   "source": [
    "# Calculate accuracy based on character and word level\n",
    "correct_char_percent = correct_char * 100 / total_char\n",
    "correct_word_percent = correct * 100 / valid_size\n",
    "\n",
    "# Plotting the accuracy with custom colors\n",
    "plt.figure(figsize=(8, 6))\n",
    "plt.bar(['Character Accuracy', 'Word Accuracy'], \n",
    "        [correct_char_percent, correct_word_percent], \n",
    "        color=['skyblue', 'lightgreen'])  # Ganti warna batang di sini\n",
    "plt.ylim(0, 100)\n",
    "plt.title('Model Accuracy Evaluation')\n",
    "plt.ylabel('Accuracy (%)')\n",
    "plt.show()"
   ]
  },
  {
   "cell_type": "markdown",
   "metadata": {
    "papermill": {
     "duration": 4.808107,
     "end_time": "2024-07-03T06:44:01.651005",
     "exception": false,
     "start_time": "2024-07-03T06:43:56.842898",
     "status": "completed"
    },
    "tags": []
   },
   "source": [
    "# Character Error Rate (CER) + Word Error Rate (WER)\n",
    "\n",
    "- CER > mengukur persentase kesalahan karakter dalam hasil prediksi terhadap label sebenarnya\n",
    "- WER > mengukur persentase kesalahan kata dalam hasil prediksi terhadap label sebenarnya, termasuk perbedaan dalam urutan kata dan pengenalan kata-kata yang salah\n",
    "\n",
    "Semakin kecil nilai CER dan WER, semakin baik performa model dalam mengenali tulisan tangan"
   ]
  },
  {
   "cell_type": "code",
   "execution_count": 33,
   "metadata": {
    "execution": {
     "iopub.execute_input": "2024-07-03T06:44:11.312617Z",
     "iopub.status.busy": "2024-07-03T06:44:11.307594Z",
     "iopub.status.idle": "2024-07-03T06:44:11.440750Z",
     "shell.execute_reply": "2024-07-03T06:44:11.440126Z",
     "shell.execute_reply.started": "2024-07-03T05:46:45.996095Z"
    },
    "papermill": {
     "duration": 4.997679,
     "end_time": "2024-07-03T06:44:11.440857",
     "exception": false,
     "start_time": "2024-07-03T06:44:06.443178",
     "status": "completed"
    },
    "tags": []
   },
   "outputs": [
    {
     "name": "stdout",
     "output_type": "stream",
     "text": [
      "Character Error Rate (CER): 9.09%\n",
      "Word Error Rate (WER): 33.24%\n"
     ]
    }
   ],
   "source": [
    "def calculate_cer(gt_texts, pred_texts):\n",
    "    \"\"\"\n",
    "    Calculate the Character Error Rate (CER) between ground truth texts and predicted texts.\n",
    "    \"\"\"\n",
    "    total_errors = 0\n",
    "    total_chars = 0\n",
    "    \n",
    "    for gt, pred in zip(gt_texts, pred_texts):\n",
    "        total_errors += edit_distance(gt, pred)\n",
    "        total_chars += len(gt)\n",
    "    \n",
    "    cer = total_errors / total_chars\n",
    "    return cer\n",
    "\n",
    "def calculate_wer(gt_texts, pred_texts):\n",
    "    \"\"\"\n",
    "    Calculate the Word Error Rate (WER) between ground truth texts and predicted texts.\n",
    "    \"\"\"\n",
    "    total_errors = 0\n",
    "    total_words = 0\n",
    "    \n",
    "    for gt, pred in zip(gt_texts, pred_texts):\n",
    "        total_errors += edit_distance(gt.split(), pred.split())\n",
    "        total_words += len(gt.split())\n",
    "    \n",
    "    wer = total_errors / total_words\n",
    "    return wer\n",
    "\n",
    "def edit_distance(s1, s2):\n",
    "    \"\"\"\n",
    "    Calculate the Levenshtein distance between two strings.\n",
    "    \"\"\"\n",
    "    if len(s1) < len(s2):\n",
    "        return edit_distance(s2, s1)\n",
    "\n",
    "    if len(s2) == 0:\n",
    "        return len(s1)\n",
    "\n",
    "    previous_row = range(len(s2) + 1)\n",
    "    for i, c1 in enumerate(s1):\n",
    "        current_row = [i + 1]\n",
    "        for j, c2 in enumerate(s2):\n",
    "            insertions = previous_row[j + 1] + 1\n",
    "            deletions = current_row[j] + 1\n",
    "            substitutions = previous_row[j] + (c1 != c2)\n",
    "            current_row.append(min(insertions, deletions, substitutions))\n",
    "        previous_row = current_row\n",
    "    \n",
    "    return previous_row[-1]\n",
    "\n",
    "ground_truths = valid.loc[:valid_size, 'IDENTITY'].tolist()\n",
    "predictions = prediction\n",
    "\n",
    "cer = calculate_cer(ground_truths, predictions)\n",
    "wer = calculate_wer(ground_truths, predictions)\n",
    "\n",
    "print('Character Error Rate (CER): {:.2f}%'.format(cer * 100))\n",
    "print('Word Error Rate (WER): {:.2f}%'.format(wer * 100))"
   ]
  },
  {
   "cell_type": "code",
   "execution_count": 34,
   "metadata": {
    "execution": {
     "iopub.execute_input": "2024-07-03T06:44:21.164752Z",
     "iopub.status.busy": "2024-07-03T06:44:21.164039Z",
     "iopub.status.idle": "2024-07-03T06:44:21.300163Z",
     "shell.execute_reply": "2024-07-03T06:44:21.301842Z",
     "shell.execute_reply.started": "2024-07-03T05:46:46.953852Z"
    },
    "papermill": {
     "duration": 4.94073,
     "end_time": "2024-07-03T06:44:21.302077",
     "exception": false,
     "start_time": "2024-07-03T06:44:16.361347",
     "status": "completed"
    },
    "tags": []
   },
   "outputs": [
    {
     "data": {
      "image/png": "[encoded data removed]",
      "text/plain": [
       "<Figure size 576x432 with 1 Axes>"
      ]
     },
     "metadata": {
      "needs_background": "light"
     },
     "output_type": "display_data"
    }
   ],
   "source": [
    "cer_values = [cer]  # CER value\n",
    "wer_values = [wer]  # WER value\n",
    "labels = ['CER', 'WER']\n",
    "\n",
    "# Plotting\n",
    "plt.figure(figsize=(8, 6))\n",
    "plt.bar(labels, [cer * 100, wer * 100], color=['blue', 'green'])\n",
    "plt.ylim(0, 100)  # Set y-axis limit from 0% to 100%\n",
    "plt.ylabel('Error Rate (%)')\n",
    "plt.title('Character Error Rate (CER) vs Word Error Rate (WER)')\n",
    "plt.xticks(rotation=45)\n",
    "plt.grid(axis='y', linestyle='--', alpha=0.7)\n",
    "for i, v in enumerate([cer * 100, wer * 100]):\n",
    "    plt.text(i, v + 2, f'{v:.2f}%', ha='center', va='bottom', fontsize=10, fontweight='bold')\n",
    "plt.show()"
   ]
  },
  {
   "cell_type": "markdown",
   "metadata": {
    "papermill": {
     "duration": 4.748151,
     "end_time": "2024-07-03T06:44:31.005166",
     "exception": false,
     "start_time": "2024-07-03T06:44:26.257015",
     "status": "completed"
    },
    "tags": []
   },
   "source": [
    "# model testing"
   ]
  },
  {
   "cell_type": "code",
   "execution_count": 35,
   "metadata": {
    "execution": {
     "iopub.execute_input": "2024-07-03T06:44:40.639186Z",
     "iopub.status.busy": "2024-07-03T06:44:40.638519Z",
     "iopub.status.idle": "2024-07-03T06:44:41.309972Z",
     "shell.execute_reply": "2024-07-03T06:44:41.309375Z",
     "shell.execute_reply.started": "2024-07-03T05:46:46.162780Z"
    },
    "papermill": {
     "duration": 5.476007,
     "end_time": "2024-07-03T06:44:41.310094",
     "exception": false,
     "start_time": "2024-07-03T06:44:35.834087",
     "status": "completed"
    },
    "tags": []
   },
   "outputs": [
    {
     "data": {
      "image/png": "[encoded data removed]",
      "text/plain": [
       "<Figure size 1080x720 with 6 Axes>"
      ]
     },
     "metadata": {
      "needs_background": "light"
     },
     "output_type": "display_data"
    }
   ],
   "source": [
    "test = pd.read_csv('/kaggle/input/handwriting-recognition/written_name_test_v2.csv')\n",
    "\n",
    "plt.figure(figsize=(15, 10))\n",
    "for i in range(6):\n",
    "    ax = plt.subplot(2, 3, i+1)\n",
    "    img_dir = '/kaggle/input/handwriting-recognition/test_v2/test/'+test.loc[i, 'FILENAME']\n",
    "    image = cv2.imread(img_dir, cv2.IMREAD_GRAYSCALE)\n",
    "    plt.imshow(image, cmap='gray')\n",
    "    \n",
    "    image = preprocess(image)\n",
    "    image = image/255.\n",
    "    pred = model.predict(image.reshape(1, 256, 64, 1))\n",
    "    decoded = K.get_value(K.ctc_decode(pred, input_length=np.ones(pred.shape[0])*pred.shape[1], \n",
    "                                       greedy=True)[0][0])\n",
    "    plt.title(num_to_label(decoded[0]), fontsize=12)\n",
    "    plt.axis('off')\n",
    "    \n",
    "plt.subplots_adjust(wspace=0.2, hspace=-0.8)"
   ]
  },
  {
   "cell_type": "markdown",
   "metadata": {
    "papermill": {
     "duration": 4.826311,
     "end_time": "2024-07-03T06:44:50.926435",
     "exception": false,
     "start_time": "2024-07-03T06:44:46.100124",
     "status": "completed"
    },
    "tags": []
   },
   "source": [
    "# save model"
   ]
  },
  {
   "cell_type": "code",
   "execution_count": 36,
   "metadata": {
    "execution": {
     "iopub.execute_input": "2024-07-03T06:45:00.702069Z",
     "iopub.status.busy": "2024-07-03T06:45:00.701436Z",
     "iopub.status.idle": "2024-07-03T06:45:00.816972Z",
     "shell.execute_reply": "2024-07-03T06:45:00.816287Z",
     "shell.execute_reply.started": "2024-07-03T05:46:46.828816Z"
    },
    "papermill": {
     "duration": 5.05682,
     "end_time": "2024-07-03T06:45:00.817080",
     "exception": false,
     "start_time": "2024-07-03T06:44:55.760260",
     "status": "completed"
    },
    "tags": []
   },
   "outputs": [],
   "source": [
    "model_final.save('best_model.h5')"
   ]
  }
 ],
 "metadata": {
  "kaggle": {
   "accelerator": "gpu",
   "dataSources": [
    {
     "datasetId": 818027,
     "sourceId": 1400106,
     "sourceType": "datasetVersion"
    }
   ],
   "dockerImageVersionId": 29995,
   "isGpuEnabled": true,
   "isInternetEnabled": false,
   "language": "python",
   "sourceType": "notebook"
  },
  "kernelspec": {
   "display_name": "Python 3",
   "language": "python",
   "name": "python3"
  },
  "language_info": {
   "codemirror_mode": {
    "name": "ipython",
    "version": 3
   },
   "file_extension": ".py",
   "mimetype": "text/x-python",
   "name": "python",
   "nbconvert_exporter": "python",
   "pygments_lexer": "ipython3",
   "version": "3.7.6"
  },
  "papermill": {
   "duration": 2371.615501,
   "end_time": "2024-07-03T06:45:06.045724",
   "environment_variables": {},
   "exception": null,
   "input_path": "__notebook__.ipynb",
   "output_path": "__notebook__.ipynb",
   "parameters": {},
   "start_time": "2024-07-03T06:05:34.430223",
   "version": "2.1.0"
  }
 },
 "nbformat": 4,
 "nbformat_minor": 4
}
